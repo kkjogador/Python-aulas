{
 "cells": [
  {
   "cell_type": "markdown",
   "id": "dc6d6b9c",
   "metadata": {},
   "source": [
    "esta foi a minha primeira celula aula 1"
   ]
  },
  {
   "cell_type": "code",
   "execution_count": 7,
   "id": "e7f2da77",
   "metadata": {},
   "outputs": [
    {
     "name": "stdout",
     "output_type": "stream",
     "text": [
      "oi isso e so um teste\n"
     ]
    }
   ],
   "source": [
    "print ('oi isso e so um teste')"
   ]
  },
  {
   "cell_type": "markdown",
   "id": "2f970a2d",
   "metadata": {},
   "source": [
    "esta e a segunda auala 2"
   ]
  },
  {
   "cell_type": "code",
   "execution_count": 35,
   "id": "5e33d430",
   "metadata": {},
   "outputs": [
    {
     "name": "stdout",
     "output_type": "stream",
     "text": [
      "2\n",
      "18\n",
      "0\n",
      "81\n",
      "0.5\n",
      "0.44000000000000006\n",
      "1\n"
     ]
    }
   ],
   "source": [
    "print (1+1)\n",
    "print (3*6)\n",
    "print (1-1)\n",
    "print(3**4)\n",
    "\n",
    "print(50/100)  \n",
    "print(2.2/5)\n",
    "\n",
    "print(7 % 3)"
   ]
  },
  {
   "cell_type": "markdown",
   "id": "a32bf4be",
   "metadata": {},
   "source": [
    "segunda aula 2"
   ]
  },
  {
   "cell_type": "code",
   "execution_count": 44,
   "id": "3b824f5e",
   "metadata": {},
   "outputs": [
    {
     "name": "stdout",
     "output_type": "stream",
     "text": [
      "meu nome é kauan\n",
      "True\n",
      "False\n"
     ]
    }
   ],
   "source": [
    "print(\"meu nome é\" + \" kauan\")\n",
    "print ('kauan' in ' kauan é um otimo programado')\n",
    "print (\"kauan\" in \"conheço um otimo programado\")"
   ]
  },
  {
   "cell_type": "markdown",
   "id": "700c9342",
   "metadata": {},
   "source": [
    "3 aula"
   ]
  },
  {
   "cell_type": "code",
   "execution_count": 52,
   "id": "c50aeacd",
   "metadata": {},
   "outputs": [
    {
     "name": "stdout",
     "output_type": "stream",
     "text": [
      "1500\n",
      "1800\n",
      "kauan\n"
     ]
    }
   ],
   "source": [
    "qtde_vendas = 1500\n",
    "\n",
    "print (qtde_vendas)\n",
    "\n",
    "qtde_vendas = 1800\n",
    "\n",
    "print(qtde_vendas)\n",
    "\n",
    "nome = 'kauan'\n",
    "\n",
    "print (nome)"
   ]
  },
  {
   "cell_type": "markdown",
   "id": "a3b9f675",
   "metadata": {},
   "source": [
    "4 aual"
   ]
  },
  {
   "cell_type": "code",
   "execution_count": 60,
   "id": "2db6d175",
   "metadata": {},
   "outputs": [
    {
     "name": "stdout",
     "output_type": "stream",
     "text": [
      "como voce ta bem\n"
     ]
    },
    {
     "data": {
      "text/plain": [
       "'bem'"
      ]
     },
     "execution_count": 60,
     "metadata": {},
     "output_type": "execute_result"
    }
   ],
   "source": [
    "input (\"como voce ta \")"
   ]
  },
  {
   "cell_type": "code",
   "execution_count": 74,
   "id": "a661e00f",
   "metadata": {},
   "outputs": [
    {
     "name": "stdout",
     "output_type": "stream",
     "text": [
      " qual seu nome amigo kauan\n",
      "qualtos anos voce tem 16\n",
      "kauan 16\n"
     ]
    }
   ],
   "source": [
    "nome = input(' qual seu nome amigo ')\n",
    "\n",
    "idade = input ('qualtos anos voce tem ')\n",
    "\n",
    "print (nome + ' ' + idade )"
   ]
  },
  {
   "cell_type": "markdown",
   "id": "75744f65",
   "metadata": {},
   "source": [
    "**APROFUNDANDO EN VARIAVEL"
   ]
  },
  {
   "cell_type": "code",
   "execution_count": 12,
   "id": "ce0e4c57",
   "metadata": {},
   "outputs": [
    {
     "name": "stdout",
     "output_type": "stream",
     "text": [
      "500\n",
      "900\n"
     ]
    }
   ],
   "source": [
    "faturamento = 1000\n",
    "custo = 500\n",
    "lucro = faturamento - custo\n",
    "\n",
    "print (lucro)\n",
    "\n",
    "custo = 100\n",
    "lucro = faturamento - custo\n",
    "print (lucro)"
   ]
  },
  {
   "cell_type": "markdown",
   "id": "55bffca1",
   "metadata": {},
   "source": [
    "como descobri qual tipo de variavel"
   ]
  },
  {
   "cell_type": "code",
   "execution_count": 8,
   "id": "72d756f5",
   "metadata": {},
   "outputs": [
    {
     "data": {
      "text/plain": [
       "float"
      ]
     },
     "execution_count": 8,
     "metadata": {},
     "output_type": "execute_result"
    }
   ],
   "source": [
    "faturamento = 1000.00\n",
    "type(faturamento)"
   ]
  },
  {
   "cell_type": "code",
   "execution_count": 9,
   "id": "4f9ecfbf",
   "metadata": {},
   "outputs": [
    {
     "data": {
      "text/plain": [
       "str"
      ]
     },
     "execution_count": 9,
     "metadata": {},
     "output_type": "execute_result"
    }
   ],
   "source": [
    "faturamento = '1.000'\n",
    "type(faturamento)"
   ]
  },
  {
   "cell_type": "code",
   "execution_count": 10,
   "id": "84902dfc",
   "metadata": {},
   "outputs": [
    {
     "data": {
      "text/plain": [
       "bool"
      ]
     },
     "execution_count": 10,
     "metadata": {},
     "output_type": "execute_result"
    }
   ],
   "source": [
    "ganha_bonus = True\n",
    "type(ganha_bonus)"
   ]
  },
  {
   "cell_type": "code",
   "execution_count": 15,
   "id": "c3a4aa35",
   "metadata": {},
   "outputs": [
    {
     "data": {
      "text/plain": [
       "int"
      ]
     },
     "execution_count": 15,
     "metadata": {},
     "output_type": "execute_result"
    }
   ],
   "source": [
    "faturamento = 1000\n",
    "type(faturamento)"
   ]
  },
  {
   "cell_type": "code",
   "execution_count": 6,
   "id": "a536fa1b",
   "metadata": {},
   "outputs": [
    {
     "name": "stdout",
     "output_type": "stream",
     "text": [
      "O faturamento da loja foi 2000.O custo da loja foi 500.Assim, o lucro da loja foi de 1500\n"
     ]
    }
   ],
   "source": [
    "faturamento = 2000\n",
    "custo = 500\n",
    "lucro = faturamento - custo\n",
    "\n",
    "print('O faturamento da loja foi ' + str(faturamento) + '.O custo da loja foi ' + str(custo) + '.Assim, o lucro da loja foi de ' + str(lucro))"
   ]
  },
  {
   "cell_type": "code",
   "execution_count": 19,
   "id": "1ff97e6c",
   "metadata": {},
   "outputs": [
    {
     "name": "stdout",
     "output_type": "stream",
     "text": [
      "ofaturamento foi de 2000 ocusto foi de 500 entao o lucro foi de 1500 \n"
     ]
    }
   ],
   "source": [
    "faturamento = 2000\n",
    "custo = 500\n",
    "lucro = faturamento - custo\n",
    "\n",
    "print (\"ofaturamento foi de {} \" \"ocusto foi de {} \" \"entao o lucro foi de {} \" . format(faturamento ,custo ,lucro ))"
   ]
  },
  {
   "cell_type": "markdown",
   "id": "eab19f22",
   "metadata": {},
   "source": [
    "estudo de if"
   ]
  },
  {
   "cell_type": "code",
   "execution_count": 2,
   "id": "81bfaff4",
   "metadata": {},
   "outputs": [
    {
     "name": "stdout",
     "output_type": "stream",
     "text": [
      "batemos a meta de vendas de ifone 65300 unidades \n",
      "fim do programa\n"
     ]
    }
   ],
   "source": [
    "meta = 50000\n",
    "qtde_vendas = 65300\n",
    "\n",
    "if  qtde_vendas > meta:\n",
    "    print ('batemos a meta de vendas de ifone {} unidades ' .format(qtde_vendas))\n",
    "    \n",
    "    \n",
    "    \n",
    "    meta = 50000\n",
    "qtde_vendas = 6530\n",
    "\n",
    "if  qtde_vendas > meta:\n",
    "    print ('batemos a meta de vendas de ifone {} unidades ' .format(qtde_vendas))\n",
    "print(\"fim do programa\")\n",
    "    "
   ]
  },
  {
   "cell_type": "code",
   "execution_count": 1,
   "id": "3d60c3e8",
   "metadata": {},
   "outputs": [
    {
     "name": "stdout",
     "output_type": "stream",
     "text": [
      "infelismente não batemos a meta de vendas deste ano vendemos 6530 unidades de 50000 \n"
     ]
    }
   ],
   "source": [
    "meta = 50000\n",
    "qtde_vendas = 6530\n",
    "\n",
    "if qtde_vendas > meta:\n",
    "     print ('batemos a meta de vendas {} unidades ' .format(qtde_vendas))\n",
    "\n",
    "\n",
    "else:\n",
    "        print('infelismente não batemos a meta de vendas deste ano vendemos {} unidades de {} ' .format(qtde_vendas,meta))"
   ]
  },
  {
   "cell_type": "code",
   "execution_count": 15,
   "id": "1e6a990a",
   "metadata": {},
   "outputs": [
    {
     "name": "stdout",
     "output_type": "stream",
     "text": [
      "taxa foi de 0.04\n"
     ]
    }
   ],
   "source": [
    "meta = 0.05\n",
    "taxa = 0\n",
    "rend = 1.00\n",
    "\n",
    "if rend > meta:\n",
    "    if rend > 0.20:\n",
    "        taxa = 0.04\n",
    "        print('taxa foi de {}' .format(taxa))\n",
    "    else:\n",
    "        taxa = 0.02\n",
    "        print('taxa foi de {}' .format(taxa))\n",
    "else:\n",
    "    taxa = 0\n",
    "    print('taxa foi de {}' .format(taxa))\n",
    "    "
   ]
  },
  {
   "cell_type": "code",
   "execution_count": 16,
   "id": "b48fafa0",
   "metadata": {},
   "outputs": [
    {
     "name": "stdout",
     "output_type": "stream",
     "text": [
      "vocé ganhou 3500.0000000000005 de bonus \n"
     ]
    }
   ],
   "source": [
    "meta = 20000\n",
    "vendas = 50000\n",
    "\n",
    "if vendas < meta:\n",
    "    print ('NÃO GANHO O BONUS') \n",
    "    \n",
    "elif vendas > (meta * 2):\n",
    "    bonus = 0.07 * vendas\n",
    "    print('vocé ganhou {} de bonus ' .format(bonus))  \n",
    "    \n",
    "else:\n",
    "    bonus = 0.03 * vendas\n",
    "    \n",
    "    print('vocé ganhou {} de bonus ' .format(bonus))"
   ]
  },
  {
   "cell_type": "code",
   "execution_count": 17,
   "id": "e6c48f23",
   "metadata": {},
   "outputs": [
    {
     "ename": "SyntaxError",
     "evalue": "invalid syntax (<ipython-input-17-115bb1f582d6>, line 1)",
     "output_type": "error",
     "traceback": [
      "\u001b[1;36m  File \u001b[1;32m\"<ipython-input-17-115bb1f582d6>\"\u001b[1;36m, line \u001b[1;32m1\u001b[0m\n\u001b[1;33m    ==    igual\u001b[0m\n\u001b[1;37m    ^\u001b[0m\n\u001b[1;31mSyntaxError\u001b[0m\u001b[1;31m:\u001b[0m invalid syntax\n"
     ]
    }
   ],
   "source": [
    "==    igual\n",
    "!=    diferente\n",
    ">     maior que (>= maior ou igual)\n",
    "<     menor que (<= menor ou igual)\n",
    "in    texto existe dentro de outro texto \n",
    "not   verifica o contrário da comparação\n",
    "\n",
    "Obs: Se em alguma condição você não quiser fazer nada, você pode simplesmente escrever:\n",
    "pass"
   ]
  },
  {
   "cell_type": "code",
   "execution_count": 43,
   "id": "3b37702e",
   "metadata": {},
   "outputs": [
    {
     "name": "stdout",
     "output_type": "stream",
     "text": [
      "oas faturamentos são diferentes\n"
     ]
    }
   ],
   "source": [
    "loja_1 =40\n",
    "loja_2 = 10\n",
    "email = 'kvictor727@gmail.com'\n",
    "\n",
    "if loja_1 == loja_2:\n",
    "    print ('os faturamentos são iguais')\n",
    "else:\n",
    "    print('oas faturamentos são diferentes')"
   ]
  },
  {
   "cell_type": "code",
   "execution_count": 50,
   "id": "98d79efb",
   "metadata": {},
   "outputs": [
    {
     "name": "stdout",
     "output_type": "stream",
     "text": [
      "Esse é o email do kauan\n"
     ]
    }
   ],
   "source": [
    "\n",
    "if email != 'kvictor727@gmail.com':\n",
    "    print('Esse é o email do kauan')\n",
    "    \n",
    "else:\n",
    "    print('Email errado')"
   ]
  },
  {
   "cell_type": "code",
   "execution_count": 5,
   "id": "0e7f3433",
   "metadata": {},
   "outputs": [
    {
     "name": "stdout",
     "output_type": "stream",
     "text": [
      "insira seu email \n",
      " email invalido \n"
     ]
    }
   ],
   "source": [
    "email_usuario = input('insira seu email ')\n",
    "\n",
    "if not '@' in email_usuario:\n",
    "    print(' email invalido ')\n",
    "else:\n",
    "    pass\n"
   ]
  },
  {
   "cell_type": "code",
   "execution_count": 76,
   "id": "e8cb214e",
   "metadata": {},
   "outputs": [
    {
     "name": "stdout",
     "output_type": "stream",
     "text": [
      "vocé ganhou 100.0 de bonus \n",
      "vocé nao bateu a meta\n",
      "vocé ganhou 270.0 de bonus \n",
      "o funcionario 1 ganhou 100.0 de bonus\n",
      "o funcionario 2 ganhou 0 de bonus\n",
      "o funcionario 3 ganhou 405.0 de bonus\n",
      "o funcionario 1 ganhou 100.0 de bonus\n",
      "o funcionario 2 ganhou 0 de bonus\n",
      "o funcionario 3 ganhou 405.0 de bonus\n"
     ]
    }
   ],
   "source": [
    "\n",
    "vendas_funcionario1 = 1000\n",
    "vendas_funcionario2 = 770\n",
    "vendas_funcionario3 = 2700\n",
    "meta = 1000\n",
    "\n",
    "\n",
    "#crie seu código aqui\n",
    "\n",
    "if vendas_funcionario1 >= meta:\n",
    "    bonus = vendas_funcionario1 * 0.1\n",
    "    print('vocé ganhou {} de bonus ' .format(bonus))  \n",
    "else:\n",
    "    print('vocé nao bateu a meta')  \n",
    "\n",
    "if vendas_funcionario2 >= meta:\n",
    "    bonus = vendas_funcionario2 * 0.1\n",
    "    print('vocé ganhou {} de bonus ' .format(bonus))  \n",
    "else:\n",
    "    print('vocé nao bateu a meta')  \n",
    "    \n",
    "if vendas_funcionario3 >= meta:\n",
    "    bonus = vendas_funcionario3 * 0.1\n",
    "    print('vocé ganhou {} de bonus ' .format(bonus))  \n",
    "else:\n",
    "    print('vocé nao bateu a meta')  \n",
    "    \n",
    "    \n",
    "if vendas_funcionario1 >= 1000:\n",
    "    if vendas_funcionario1 >= 2000:\n",
    "        bonus = 0.15 * vendas_funcionario1\n",
    "    else:\n",
    "        bonus = 0.1 * vendas_funcionario1  \n",
    "else:\n",
    "    bonus = 0\n",
    "\n",
    "print('o funcionario 1 ganhou {} de bonus' .format(bonus))                     \n",
    "    \n",
    "\n",
    "if vendas_funcionario2 >= 1000:\n",
    "    if vendas_funcionario2 >= 2000:\n",
    "        bonus = 0.15 * vendas_funcionario2\n",
    "    else:\n",
    "        bonus = 0.1 * vendas_funcionario2   \n",
    "else:\n",
    "    bonus = 0\n",
    "\n",
    "print('o funcionario 2 ganhou {} de bonus' .format(bonus))                     \n",
    "\n",
    "\n",
    "\n",
    "if vendas_funcionario3 >= 1000:\n",
    "    if vendas_funcionario3 >= 2000:\n",
    "        bonus = 0.15 * vendas_funcionario3\n",
    "    else:\n",
    "        bonus = 0.1 * vendas_funcionario3  \n",
    "else:\n",
    "    bonus = 0\n",
    "\n",
    "print('o funcionario 3 ganhou {} de bonus' .format(bonus))   \n",
    "\n",
    "    \n",
    "if vendas_funcionario1 >= 2000:\n",
    "    bonus = 0.15 * vendas_funcionario1\n",
    "elif vendas_funcionario1 >= 1000:\n",
    "    bonus = 0.10 * vendas_funcionario1\n",
    "else:\n",
    "    bonus = 0\n",
    "print('o funcionario 1 ganhou {} de bonus' .format(bonus))  \n",
    "\n",
    "    \n",
    "if vendas_funcionario2 >= 2000:\n",
    "    bonus = 0.15 * vendas_funcionario2\n",
    "elif vendas_funcionario2 >= 1000:\n",
    "    bonus = 0.10 * vendas_funcionario2\n",
    "else:\n",
    "    bonus = 0\n",
    "print('o funcionario 2 ganhou {} de bonus' .format(bonus))  \n",
    "\n",
    "    \n",
    "if vendas_funcionario3 >= 2000:\n",
    "    bonus = 0.15 * vendas_funcionario3\n",
    "elif vendas_funcionario3 >= 1000:\n",
    "    bonus = 0.10 * vendas_funcionario3\n",
    "else:\n",
    "    bonus = 0\n",
    "print('o funcionario 3 ganhou {} de bonus' .format(bonus))  "
   ]
  },
  {
   "cell_type": "code",
   "execution_count": 1,
   "id": "259db597",
   "metadata": {},
   "outputs": [
    {
     "name": "stdout",
     "output_type": "stream",
     "text": [
      "batemos a meta de jogadores entam o jogo aumeta en 300.0\n"
     ]
    }
   ],
   "source": [
    "meta_jogo = 1000\n",
    "jogos = 10000\n",
    "meta_jogadores = 1000\n",
    "jogadores = 100000\n",
    "\n",
    "if jogos > meta_jogo and jogadores > meta_jogadores:\n",
    "    bonus = 0.03 * jogos\n",
    "    print('batemos a meta de jogadores entam o jogo aumeta en {}' .format(bonus))\n",
    "else:\n",
    "    print('não batemos nada')"
   ]
  },
  {
   "cell_type": "code",
   "execution_count": 5,
   "id": "a76a211b",
   "metadata": {},
   "outputs": [
    {
     "name": "stdout",
     "output_type": "stream",
     "text": [
      "ele ganha 300.0 de bonus por enquanto\n"
     ]
    }
   ],
   "source": [
    "nota_jogo = 9\n",
    "meta_da_nota = 10\n",
    "\n",
    "if nota_jogo >= meta_da_nota or (jogos > meta_jogo and jogadores > meta_jogadores):\n",
    "    bonus + 0.03 * jogos\n",
    "    print ('ele ganha {} de bonus por enquanto'  .format(bonus))\n",
    "else:\n",
    "    print('não batemos nada')"
   ]
  },
  {
   "cell_type": "code",
   "execution_count": null,
   "id": "8e8e07b8",
   "metadata": {},
   "outputs": [],
   "source": [
    "faturamento_jogos = input('qual seria a venda dos jogos?')\n",
    "custo = input ('quanto foi o gasto nos jogos?')\n",
    "\n",
    "if faturamento_jogos and custo:\n",
    "    lucro = int(faturamento_jogos) - int(custo)\n",
    "    print('o lucro encima dos jogos foi de {}' .format(lucro))\n",
    "else:\n",
    "    print('preencha as perguntas porfavor')"
   ]
  },
  {
   "cell_type": "code",
   "execution_count": null,
   "id": "118221af",
   "metadata": {
    "scrolled": true
   },
   "outputs": [],
   "source": [
    "quantidade_minima = input ('qual a contidade minima?')\n",
    "\n",
    "produto = input (' diga qual produto? ')\n",
    "categoria = input (' quual a categoria dele? bebidas alimento ou linpeza ')\n",
    "qtde = input (' quantos tem? ')\n",
    "\n",
    "if produto and categoria and qtde:\n",
    "    qtde = int(qtde)\n",
    "    \n",
    "    if categoria == 'bebidas':\n",
    "             if qtde < int ( quantidade_minima ):\n",
    "                    print('presisamos de mas {} temos so {} de {}' .format(produto, qtde, quantidade_minima ))\n",
    "                    \n",
    "    elif categoria == 'alimentos':\n",
    "        if qtde < 50:\n",
    "            print ('presisamos de mas {} o estoque so tem {}' .format(produto, qtde))\n",
    "            \n",
    "    elif categoria == 'linpeza':\n",
    "        if qtde < 30:\n",
    "            print ('presisamos de mas produtos de {} o estoque so tem {}' .format(produto, qtde))\n",
    "        \n",
    "        \n",
    "    \n",
    "\n",
    "else:\n",
    "    print('preencha as perguntas porfavor')"
   ]
  }
 ],
 "metadata": {
  "kernelspec": {
   "display_name": "Python 3 (ipykernel)",
   "language": "python",
   "name": "python3"
  },
  "language_info": {
   "codemirror_mode": {
    "name": "ipython",
    "version": 3
   },
   "file_extension": ".py",
   "mimetype": "text/x-python",
   "name": "python",
   "nbconvert_exporter": "python",
   "pygments_lexer": "ipython3",
   "version": "3.9.12"
  }
 },
 "nbformat": 4,
 "nbformat_minor": 5
}
