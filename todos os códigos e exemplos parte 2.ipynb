{
 "cells": [
  {
   "cell_type": "code",
   "execution_count": null,
   "id": "dc9ecda3",
   "metadata": {},
   "outputs": [],
   "source": [
    "nome = 'kauan'\n",
    "email = input ('qual seu email?')\n",
    "\n",
    "print (len(nome))\n",
    "print (nome[1])\n",
    "\n",
    "print (email[:-1])\n",
    "print (email[10:])\n",
    "\n",
    "print('Tamanho do e-mail ' + str(len(email)) + ' caracteres')\n",
    "print('Primeiro Caractere ' + (email[0]))\n",
    "print('Último Caractere ' + (email[-1]))\n",
    "print('Servidor do email ' + (email[11:15]))"
   ]
  },
  {
   "cell_type": "code",
   "execution_count": null,
   "id": "0b6522ad",
   "metadata": {},
   "outputs": [],
   "source": [
    "\n",
    "\n",
    "str -> transforma número em string\n",
    "in -> verifica se um texto está contido dentro do outro\n",
    "operador + -> concatenar string\n",
    "format e {} -> substitui valores\n",
    "%s -> substitui textos\n",
    "%d -> substitui números decimais\n"
   ]
  },
  {
   "cell_type": "code",
   "execution_count": 3,
   "id": "5cc7f936",
   "metadata": {},
   "outputs": [
    {
     "name": "stdout",
     "output_type": "stream",
     "text": [
      "O faturamento da loja foi de: 2000 O custo foi de 500 O lucro foi de 1500\n",
      "O faturamento foi de: 2000. O custo foi de 500 e o Lucro foi de 1500. Lembrando, o faturamento foi de 2000\n",
      "O faturamento foi de: 2000. O custo foi de 500 e o Lucro foi de 1500\n",
      "True\n",
      "False\n"
     ]
    }
   ],
   "source": [
    "faturamento = 2000\n",
    "custo = 500\n",
    "lucro = faturamento - custo\n",
    "\n",
    "print ('O faturamento da loja foi de: ' + str(faturamento) + ' O custo foi de ' + str(custo) + ' O lucro foi de ' + str(lucro))\n",
    "print('O faturamento foi de: {0}. O custo foi de {1} e o Lucro foi de {2}. Lembrando, o faturamento foi de {0}'.format(faturamento, custo, lucro))\n",
    "print ('O faturamento foi de: %d. O custo foi de %d e o Lucro foi de %d' % (faturamento, custo, lucro))\n",
    "print('@' in 'lira@gmail.com')\n",
    "print('@' in 'lira.gmail.com')"
   ]
  },
  {
   "cell_type": "code",
   "execution_count": 2,
   "id": "a842a887",
   "metadata": {},
   "outputs": [
    {
     "ename": "IndentationError",
     "evalue": "unindent does not match any outer indentation level (<tokenize>, line 4)",
     "output_type": "error",
     "traceback": [
      "\u001b[1;36m  File \u001b[1;32m\"<tokenize>\"\u001b[1;36m, line \u001b[1;32m4\u001b[0m\n\u001b[1;33m    Resultado:\u001b[0m\n\u001b[1;37m    ^\u001b[0m\n\u001b[1;31mIndentationError\u001b[0m\u001b[1;31m:\u001b[0m unindent does not match any outer indentation level\n"
     ]
    }
   ],
   "source": [
    "Uso: \n",
    "        texto = 'kauan'\n",
    "        print(texto.capitalize())\n",
    "    Resultado: \n",
    "        'Kauan'\n",
    "\n",
    "        \n",
    "        \n",
    "        \n",
    "    Uso: \n",
    "        texto = 'Lira'\n",
    "        print(texto.casefold())\n",
    "    Resultado: \n",
    "        'lira'\n",
    "        \n",
    "        \n",
    "        \n",
    "    Uso:\n",
    "        texto = 'lira@yahoo.com.br'\n",
    "        print(texto.count('.'))\n",
    "    Resultado:\n",
    "        2\n",
    "        \n",
    "        \n",
    "        \n",
    "        \n",
    "    Uso:\n",
    "        texto = 'lira@gmail.com'\n",
    "        print(texto.endswith('gmail.com'))\n",
    "    Resultado:\n",
    "        True\n",
    "        \n",
    "        \n",
    "        \n",
    "    Uso:\n",
    "        texto = 'lira@gmail.com'\n",
    "        print(texto.find('@'))\n",
    "    Resultado:\n",
    "        4\n",
    "    Obs: lembrando como funciona a posição nas strings, então o @ está na posição 4\n",
    "    l i r a @ g m a i l  .  c  o  m\n",
    "    0 1 2 3 4 5 6 7 8 9 10 11 12 13\n",
    "    \n",
    "    Uso:\n",
    "        faturamento = 1000\n",
    "        print('O faturamento da loja foi de {} reais'.format(faturamento))\n",
    "    Resultado:\n",
    "        'O faturamento da loja foi de 1000 reais'\n",
    "        \n",
    "        \n",
    "        \n",
    "    Uso:\n",
    "        texto = 'João123'\n",
    "        print(texto.isalnum())\n",
    "    Resultado:\n",
    "        True\n",
    "    Obs: se o texto fosse 'Jo~ao' ou então 'Joao#' o resultado seria False \n",
    "        \n",
    "        \n",
    "        \n",
    "    Uso:\n",
    "        texto = 'João'\n",
    "        print(texto.isalpha())\n",
    "    Resultado:\n",
    "        True\n",
    "    Obs: nesse caso se o texto fosse 'Joao123' o resultado seria False, porque 123 não são letras.\n",
    "        \n",
    "        \n",
    "        \n",
    "    Uso:\n",
    "        texto = '123'\n",
    "        print(texto.isnumeric())\n",
    "    Resultado:\n",
    "        True\n",
    "    Obs: existem os métodos isdigit() e isdecimal() que tem variações pontuais em caracteres especiais tipo textos com frações e potências, mas para 99% dos casos eles não vão ser necessários.\n",
    "    \n",
    "    \n",
    "    Uso:\n",
    "        texto = '1000.00'\n",
    "        print(texto.replace('.', ','))\n",
    "    Resultado\n",
    "        '1000,00'\n",
    "    Obs: o replace precisa de 2 argumentos para funcionar. O 1º é o texto que você quer trocar. O 2º é o texto que você quer colocar no lugar daquele texto que você está tirando.\n",
    "        \n",
    "        \n",
    "    Uso:\n",
    "        texto = 'lira@gmail.com'\n",
    "        print(texto.split('@'))\n",
    "    Resultado:\n",
    "        ['lira', 'gmail.com']\n",
    "\n",
    "        \n",
    "    Uso:\n",
    "        texto = '''Olá, bom dia\n",
    "        Venho por meio desse e-mail lhe informar o faturamento da loja no dia de hoje.\n",
    "        Faturamento = R$2.500,00\n",
    "        '''\n",
    "        print(texto.splitlines())\n",
    "    Resultado:\n",
    "        ['Olá, bom dia', 'Venho por meio desse e-mail lhe informar o faturamento da loja no dia de hoje.', 'Faturamento = R$2.500,00']\n",
    "        \n",
    "\n",
    "        \n",
    "    Uso:\n",
    "        texto = 'BEB123453'\n",
    "        print(texto.startswith('BEB'))\n",
    "    Resultado:\n",
    "        True\n",
    "        \n",
    "        \n",
    "        \n",
    "    Uso:\n",
    "        texto = ' BEB123453 '\n",
    "        print(texto.strip())\n",
    "    Resultado:\n",
    "        'BEB123453'\n",
    "        \n",
    "        \n",
    "        \n",
    "    Uso:\n",
    "        texto = 'joão paulo lira'\n",
    "        print(texto.title())\n",
    "    Resultado:\n",
    "        'João Paulo Lira'\n",
    "        \n",
    "        \n",
    "        \n",
    "    Uso:\n",
    "        texto = 'beb12343'\n",
    "        print(texto.upper())\n",
    "    Resultado:\n",
    "        'BEB12343'\n",
    "        \n",
    "        \n",
    "\n",
    "    "
   ]
  },
  {
   "cell_type": "code",
   "execution_count": 3,
   "id": "1e76c838",
   "metadata": {},
   "outputs": [
    {
     "ename": "SyntaxError",
     "evalue": "invalid syntax (<ipython-input-3-f59e95b91e01>, line 1)",
     "output_type": "error",
     "traceback": [
      "\u001b[1;36m  File \u001b[1;32m\"<ipython-input-3-f59e95b91e01>\"\u001b[1;36m, line \u001b[1;32m1\u001b[0m\n\u001b[1;33m    :<   Alinha o texto à esquerda (se tiver espaço na tela para isso)\u001b[0m\n\u001b[1;37m    ^\u001b[0m\n\u001b[1;31mSyntaxError\u001b[0m\u001b[1;31m:\u001b[0m invalid syntax\n"
     ]
    }
   ],
   "source": [
    ":<   Alinha o texto à esquerda (se tiver espaço na tela para isso)\n",
    ":>  Alinha o texto à direita (se tiver espaço na tela para isso)\n",
    ":^   Alinha o texto ao centro (se tiver espaço na tela para isso)\n",
    ":+  Coloca o sinal sempre na frente do número (independente se é positivo ou negativo)\n",
    ":,  Coloca a vírgula como separador de milhar\n",
    ":_  Coloca o _ como separador de milhar\n",
    ":e  Formato Científico\n",
    ":f  Número com quantidade fixa de casas decimais\n",
    ":x   Formato HEX minúscula (para cores)\n",
    ":X   Formato HEX maiúscula (para cores)\n",
    ":%=   Formato Percentual"
   ]
  },
  {
   "cell_type": "code",
   "execution_count": 2,
   "id": "22ac3621",
   "metadata": {},
   "outputs": [
    {
     "name": "stdout",
     "output_type": "stream",
     "text": [
      "Meu e-mail não é                   lira@gmail.com                  , show?\n",
      "Faturamento foi +270 e lucro foi -230\n",
      "Faturamento foi +2,700 e lucro foi -2,300\n",
      "Faturamento foi 270.00 e lucro foi -230.0\n",
      "Margem de lucro foi de 61.54%\n",
      "Faturamento foi R$27,000.00 e lucro foi R$22,000.00\n",
      "R$22.000,00\n",
      "Imposto sobre o preço é de 15.8\n"
     ]
    }
   ],
   "source": [
    "email = 'lira@gmail.com'\n",
    "print('Meu e-mail não é {:^50}, show?'.format(email))\n",
    "\n",
    "custo = 500\n",
    "faturamento = 270\n",
    "lucro = faturamento - custo\n",
    "print('Faturamento foi {:+} e lucro foi {:+}'.format(faturamento, lucro))\n",
    "\n",
    "\n",
    "custo = 5000\n",
    "faturamento = 2700\n",
    "lucro = faturamento - custo\n",
    "print('Faturamento foi {:+,} e lucro foi {:+,}'.format(faturamento, lucro))\n",
    "\n",
    "\n",
    "custo = 500\n",
    "faturamento = 270\n",
    "lucro = faturamento - custo\n",
    "print('Faturamento foi {:.2f} e lucro foi {:.1f}'.format(faturamento, lucro))\n",
    "\n",
    "\n",
    "\n",
    "custo = 500\n",
    "faturamento = 1300\n",
    "lucro = faturamento - custo\n",
    "margem = lucro / faturamento\n",
    "print('Margem de lucro foi de {:.2%}'.format(margem))\n",
    "\n",
    "\n",
    "custo = 5000\n",
    "faturamento = 27000\n",
    "lucro = faturamento - custo\n",
    "print('Faturamento foi R${:,.2f} e lucro foi R${:,.2f}'.format(faturamento, lucro))\n",
    "\n",
    "#transformando no formato brasileiro\n",
    "lucro_texto = 'R${:_.2f}'.format(lucro)\n",
    "print(lucro_texto.replace('.', ',').replace('_', '.'))\n",
    "\n",
    "\n",
    "imposto = 0.15758\n",
    "preco = 100\n",
    "valor_imposto = round(preco * imposto, 1)\n",
    "print('Imposto sobre o preço é de {}'.format(valor_imposto))"
   ]
  },
  {
   "cell_type": "code",
   "execution_count": 6,
   "id": "9d835481",
   "metadata": {},
   "outputs": [],
   "source": [
    "produtos = ['tv', 'celular', 'mouse', 'teclado', 'tablet']"
   ]
  },
  {
   "cell_type": "code",
   "execution_count": 5,
   "id": "7d2ae7f8",
   "metadata": {},
   "outputs": [],
   "source": [
    "vendas = [1000, 1500, 350, 270, 900]\n",
    "estoque = [1000, 1500, 350, 270, 900]"
   ]
  },
  {
   "cell_type": "code",
   "execution_count": 7,
   "id": "5aa37c5e",
   "metadata": {},
   "outputs": [
    {
     "name": "stdout",
     "output_type": "stream",
     "text": [
      "a vendas dos teclado fora equivalentes a 270\n"
     ]
    }
   ],
   "source": [
    "print ('a vendas dos {} fora equivalentes a {}' .format(produtos[3] , vendas[3]))"
   ]
  },
  {
   "cell_type": "code",
   "execution_count": 15,
   "id": "f156029f",
   "metadata": {},
   "outputs": [
    {
     "name": "stdout",
     "output_type": "stream",
     "text": [
      "3\n",
      "teclado 270\n"
     ]
    }
   ],
   "source": [
    "i = produtos.index('teclado')\n",
    "\n",
    "qtde_estoque = estoque[i]\n",
    "\n",
    "print(i)\n",
    "\n",
    "print(produtos[i], qtde_estoque)"
   ]
  },
  {
   "cell_type": "code",
   "execution_count": null,
   "id": "0ac4e693",
   "metadata": {},
   "outputs": [],
   "source": [
    "produtos = ['tv', 'celular', 'tablet', 'mouse', 'teclado', 'geladeira', 'forno']\n",
    "estoque = [100, 150, 100, 120, 70, 180, 80]\n",
    "\n",
    "pergunta = input('qual produto esta procurando? ')\n",
    "\n",
    "\n",
    "if pergunta in produtos:\n",
    "    \n",
    "    i = produtos.index(pergunta)\n",
    "    qtde_estoque = estoque[i]\n",
    "    print('o produto {} tem no momento {} unidades no estoque ' .format(pergunta, qtde_estoque))\n",
    "    \n",
    "    \n",
    "elif pergunta:\n",
    "    print('este produto ou não existe ou não foi encontrado no sitema')\n",
    "    \n",
    "        \n",
    "\n",
    "    \n",
    "else:\n",
    "    print('porfavor responda a pergunta ')\n",
    "\n"
   ]
  },
  {
   "cell_type": "code",
   "execution_count": null,
   "id": "d3a6f2ef",
   "metadata": {},
   "outputs": [],
   "source": [
    "Adicionar:\n",
    "lista.append(item)\n",
    "\n",
    "Remover:\n",
    "item_removido = lista.pop(indice)\n",
    "lista.remove(item"
   ]
  },
  {
   "cell_type": "code",
   "execution_count": 3,
   "id": "a16bd36b",
   "metadata": {},
   "outputs": [
    {
     "ename": "SyntaxError",
     "evalue": "invalid syntax (<ipython-input-3-4c5243f7e051>, line 13)",
     "output_type": "error",
     "traceback": [
      "\u001b[1;36m  File \u001b[1;32m\"<ipython-input-3-4c5243f7e051>\"\u001b[1;36m, line \u001b[1;32m13\u001b[0m\n\u001b[1;33m    item_removido = produtos.pop(3)   <------ e pra remover o iphone x mas ja que ele ja foi removido ele pega o proximo item\u001b[0m\n\u001b[1;37m                                                ^\u001b[0m\n\u001b[1;31mSyntaxError\u001b[0m\u001b[1;31m:\u001b[0m invalid syntax\n"
     ]
    }
   ],
   "source": [
    "produtos = ['apple tv', 'mac', 'iphone x', 'IPad', 'apple watch', 'mac book', 'airpods']\n",
    "\n",
    "print(produtos)\n",
    "\n",
    "produtos.append('iphone11')\n",
    "\n",
    "print(produtos)\n",
    "\n",
    "produtos.remove('iphone x')\n",
    "\n",
    "print(produtos)\n",
    "\n",
    "item_removido = produtos.pop(3)   <------ e pra remover o iphone x mas ja que ele ja foi removido ele pega o proximo item\n",
    "\n",
    "print(produtos)\n",
    "\n",
    "print('removemos o {} da lisat ' .format(item_removido))"
   ]
  },
  {
   "cell_type": "code",
   "execution_count": 1,
   "id": "c0a4577b",
   "metadata": {},
   "outputs": [
    {
     "name": "stdout",
     "output_type": "stream",
     "text": [
      "o iten não existe \n"
     ]
    }
   ],
   "source": [
    "produtos = ['apple tv', 'mac', 'iphone x', 'IPad', 'apple watch', 'mac book', 'airpods']\n",
    "\n",
    "try:\n",
    "    produtos.remove('iphone x')\n",
    "    print(produto)\n",
    "    \n",
    "except:\n",
    "    print('o iten não existe ')\n",
    "    "
   ]
  },
  {
   "cell_type": "code",
   "execution_count": 8,
   "id": "68f30922",
   "metadata": {},
   "outputs": [
    {
     "name": "stdout",
     "output_type": "stream",
     "text": [
      "['apple tv', 'mac', 'iphone x', 'iphone 11', 'IPad', 'apple watch', 'mac book', 'airpods']\n",
      "['apple tv', 'mac', 'iphone x', 'iphone 11', 'IPad', 'apple watch', 'mac book', 'airpods']\n",
      "apple tv\n",
      "mac\n",
      "iphone x\n",
      "iphone 11\n",
      "IPad\n",
      "apple watch\n",
      "mac book\n",
      "airpods\n"
     ]
    }
   ],
   "source": [
    "produtos = 'apple tv, mac, iphone x, iphone 11, IPad, apple watch, mac book, airpods'\n",
    "\n",
    "lista = produtos.split(\", \")\n",
    "\n",
    "print(lista)\n",
    "\n",
    "\n",
    "produtos = ['apple tv', 'mac', 'iphone x', 'iphone 11', 'IPad', 'apple watch', 'mac book', 'airpods']\n",
    "\n",
    "print(produtos)\n",
    "\n",
    "print ('\\n' .join(produtos))"
   ]
  },
  {
   "cell_type": "code",
   "execution_count": 10,
   "id": "a28f2537",
   "metadata": {},
   "outputs": [
    {
     "name": "stdout",
     "output_type": "stream",
     "text": [
      "9650\n",
      "49051\n",
      "O melhor mês do ano foi nov com 49051 vendas O pior mês do ano foi dez com 9650 vendas\n",
      "o mess nov representou 18.8% das vendas do ano\n",
      "[25000, 29000, 22200, 17750, 15870, 19900, 19850, 20120, 17540, 15555, 49051, 9650]\n",
      "[49051]\n",
      "[25000, 29000, 22200, 17750, 15870, 19900, 19850, 20120, 17540, 15555, 9650]\n",
      "[49051, 29000]\n",
      "[25000, 22200, 17750, 15870, 19900, 19850, 20120, 17540, 15555, 9650]\n",
      "[49051, 29000, 25000]\n"
     ]
    }
   ],
   "source": [
    "meses = ['jan', 'fev', 'mar', 'abr', 'mai', 'jun', 'jul', 'ago', 'set', 'out', 'nov', 'dez']\n",
    "vendas_1sem = [25000, 29000, 22200, 17750, 15870, 19900]\n",
    "vendas_2sem = [19850, 20120, 17540, 15555, 49051, 9650]\n",
    "\n",
    "vendas_1sem.extend(vendas_2sem)\n",
    "\n",
    "maior = max(vendas_1sem)\n",
    "\n",
    "menor = min(vendas_1sem)\n",
    "\n",
    "print(min(vendas_1sem))\n",
    "\n",
    "print (max (vendas_1sem))\n",
    "\n",
    "i_maior = vendas_1sem.index(max (vendas_1sem))\n",
    "i_menor = vendas_1sem.index(min (vendas_1sem))\n",
    "\n",
    "print('O melhor mês do ano foi {} com {} vendas O pior mês do ano foi {} com {} vendas' .format(meses[i_maior], maior , meses[i_menor], menor)) \n",
    "\n",
    "\n",
    "faturamento = sum(vendas_1sem)\n",
    "\n",
    "porcentagen = maior / faturamento\n",
    "\n",
    "print('o mess {} representou {:.1%} das vendas do ano' .format(meses[i_maior], porcentagen))\n",
    "\n",
    "\n",
    "\n",
    "top3 = []\n",
    "\n",
    "print(vendas_1sem)\n",
    "\n",
    "maior = max(vendas_1sem)\n",
    "\n",
    "\n",
    "top3.append(maior)\n",
    "\n",
    "\n",
    "print(top3)\n",
    "\n",
    "vendas_1sem.remove(maior)\n",
    "\n",
    "print(vendas_1sem)\n",
    "\n",
    "maior = max(vendas_1sem)\n",
    "\n",
    "\n",
    "top3.append(maior)\n",
    "\n",
    "\n",
    "print(top3)\n",
    "\n",
    "vendas_1sem.remove(maior)\n",
    "\n",
    "print(vendas_1sem)\n",
    "\n",
    "maior = max(vendas_1sem)\n",
    "\n",
    "\n",
    "top3.append(maior)\n",
    "\n",
    "\n",
    "print(top3)\n",
    "\n",
    "\n",
    "\n",
    "\n"
   ]
  },
  {
   "cell_type": "code",
   "execution_count": 8,
   "id": "f3470fc0",
   "metadata": {},
   "outputs": [
    {
     "name": "stdout",
     "output_type": "stream",
     "text": [
      "Esse mês vendemos um total de 800 produtos, sendo:\n",
      "100 unidades de mac\n",
      "200 unidades de iphone \n",
      "500 resebe tamtas unidades de ipad\n"
     ]
    }
   ],
   "source": [
    "lista = ['mac', 'iphone']\n",
    "vendas = [100, 200]\n",
    "#adicionando IPad na lista\n",
    "\n",
    "lista = lista + ['ipad']\n",
    "\n",
    "\n",
    "soma_vendas = 300\n",
    "#adicionando na soma a quantidade de IPad\n",
    "\n",
    "\n",
    "soma_vendas = soma_vendas + 500\n",
    "\n",
    "\n",
    "email = 'Esse mês vendemos um total de {} produtos, sendo:\\n{} unidades de {}\\n{} unidades de {}'.format(soma_vendas, vendas[0], lista[0], vendas[1], lista[1])\n",
    "#adicionando no fim do texto o Ipad\n",
    "\n",
    "email = email + ' \\n{} resebe tamtas unidades de ipad' .format(500)\n",
    "\n",
    "\n",
    "\n",
    "\n",
    "print(email)"
   ]
  },
  {
   "cell_type": "code",
   "execution_count": 9,
   "id": "bb820edb",
   "metadata": {},
   "outputs": [
    {
     "ename": "SyntaxError",
     "evalue": "invalid syntax (<ipython-input-9-ca667085a4ec>, line 1)",
     "output_type": "error",
     "traceback": [
      "\u001b[1;36m  File \u001b[1;32m\"<ipython-input-9-ca667085a4ec>\"\u001b[1;36m, line \u001b[1;32m1\u001b[0m\n\u001b[1;33m    Copiar e \"Igualdade\" de Listas\u001b[0m\n\u001b[1;37m           ^\u001b[0m\n\u001b[1;31mSyntaxError\u001b[0m\u001b[1;31m:\u001b[0m invalid syntax\n"
     ]
    }
   ],
   "source": [
    "\n",
    "\n",
    "Copiar e \"Igualdade\" de Listas\n",
    "Estrutura:\n",
    "\n",
    "    Quando fazemos:\n",
    "    lista2 = lista1\n",
    "    não estamos criando uma lista nova, mas estamos atribuindo outra variável à mesma lista.\n",
    "\n",
    "    Se quisermos copiar lista devemos fazer\n",
    "    lista2 = lista1.copy()\n",
    "    ou entao\n",
    "    lista2 = lista1[:]\n",
    "\n",
    "Para entender bem isso, vamos ver na prática:\n",
    "    \n",
    "    \n",
    "lista = ['ipad', 'iphone x', 'apple tv']\n",
    "lista2 = lista\n",
    "\n",
    "lista[1] = 'iphone 11'\n",
    "\n",
    "print(lista)\n",
    "print(lista2)\n",
    "\n",
    "\n",
    "lista = ['ipad', 'iphone x', 'apple tv']\n",
    "lista2 = lista[:]\n",
    "\n",
    "lista[1] = 'iphone 11'\n",
    "print(lista)\n",
    "print(lista2)\n"
   ]
  },
  {
   "cell_type": "code",
   "execution_count": 1,
   "id": "1558d8c8",
   "metadata": {},
   "outputs": [
    {
     "name": "stdout",
     "output_type": "stream",
     "text": [
      "300\n",
      "1000\n",
      "1710\n",
      "[[50, 200], [300, 500], [50, 1000], [900, 10]]\n",
      "[[50, 200, 10], [300, 500, 15], [50, 1000, 6], [900, 10, 70]]\n"
     ]
    }
   ],
   "source": [
    "vendedores = ['Lira', 'João', 'Diego', 'Alon']\n",
    "produtos = ['ipad', 'iphone']\n",
    "vendas = [\n",
    "    [100, 200],\n",
    "    [300, 500],\n",
    "    [50, 1000],\n",
    "    [900, 10],\n",
    "]\n",
    "\n",
    "vendas_ipadejoao = vendas[1][0]\n",
    "print(vendas_ipadejoao)\n",
    "\n",
    "vendas_diego = vendas [2][1]\n",
    "print(vendas_diego)\n",
    "\n",
    "total = vendas [0][1] + vendas [1][1] + vendas[2][1] + vendas [3][1]\n",
    "\n",
    "print(total)\n",
    "\n",
    "vendas [0][0] = 50\n",
    "print(vendas)\n",
    "\n",
    "vendas_mac = [10, 15, 6, 70]\n",
    "\n",
    "vendas[0].append(vendas_mac[0])\n",
    "vendas[1].append(vendas_mac[1])\n",
    "vendas[2].append(vendas_mac[2])\n",
    "vendas[3].append(vendas_mac[3])\n",
    "\n",
    "print(vendas)\n"
   ]
  },
  {
   "cell_type": "code",
   "execution_count": null,
   "id": "2f0b35c1",
   "metadata": {},
   "outputs": [],
   "source": [
    "produtos = ['computador', 'livro', 'tablet', 'celular', 'tv', 'ar condicionado', 'alexa', 'máquina de café', 'kindle']\n",
    "\n",
    "#cada item da lista dos produtos corresponde a quantidade de vendas no mês e preço, nessa ordem\n",
    "produtos_ecommerce = [\n",
    "    [10000, 2500],\n",
    "    [50000, 40],\n",
    "    [7000, 1200],\n",
    "    [20000, 1500],\n",
    "    [5800, 1300],\n",
    "    [7200, 2500],\n",
    "    [200, 800],\n",
    "    [3300, 700],\n",
    "    [1900, 400]\n",
    "]\n",
    "\n",
    "\n",
    "\n",
    "\n",
    "    \n",
    "if 'livro' in produtos:\n",
    "    \n",
    "    i_livro = produtos.index('livro')\n",
    "    total_antigo = produtos_ecommerce[i_livro][0] * produtos_ecommerce[i_livro][1]\n",
    "    \n",
    "    produtos_ecommerce[i_livro][1] = produtos_ecommerce[i_livro][1] * 1.1\n",
    "    \n",
    "    novo_total= produtos_ecommerce[i_livro][0] * produtos_ecommerce[i_livro][1]\n",
    "    print('vamos pagar de inposto a mas {}' .format(novo_total - total_antigo))\n"
   ]
  },
  {
   "cell_type": "code",
   "execution_count": 1,
   "id": "5aab956e",
   "metadata": {},
   "outputs": [
    {
     "name": "stdout",
     "output_type": "stream",
     "text": [
      "0\n",
      "1\n",
      "2\n",
      "3\n",
      "4\n",
      "15000 unidades vendidas de coca\n",
      "12000 unidades vendidas de pepsi\n",
      "13000 unidades vendidas de guarana\n",
      "5000 unidades vendidas de sprite\n",
      "250 unidades vendidas de fanta\n",
      "300 unidades vendidas de jogos\n"
     ]
    }
   ],
   "source": [
    "for i in range(5):\n",
    "    print(i)\n",
    "\n",
    "produtos = ['coca', 'pepsi', 'guarana', 'sprite', 'fanta' ,'jogos']\n",
    "producao = [15000, 12000, 13000, 5000, 250, 300]\n",
    "\n",
    "tamanho = len(produtos)\n",
    "\n",
    "for i in range(tamanho):\n",
    "    print ('{} unidades vendidas de {}' .format(producao[i], produtos[i]))"
   ]
  },
  {
   "cell_type": "code",
   "execution_count": 2,
   "id": "8b95ef9d",
   "metadata": {},
   "outputs": [
    {
     "name": "stdout",
     "output_type": "stream",
     "text": [
      "1200\n",
      "ofuncionario 300 nao bateu meta\n",
      "ofuncionario 800 nao bateu meta\n",
      "1500\n",
      "1900\n",
      "2750\n",
      "ofuncionario 400 nao bateu meta\n",
      "ofuncionario 20 nao bateu meta\n",
      "ofuncionario 23 nao bateu meta\n",
      "ofuncionario 70 nao bateu meta\n",
      "ofuncionario 90 nao bateu meta\n",
      "ofuncionario 80 nao bateu meta\n",
      "1100\n",
      "ofuncionario 999 nao bateu meta\n",
      "ofuncionario 900 nao bateu meta\n",
      "ofuncionario 880 nao bateu meta\n",
      "ofuncionario 870 nao bateu meta\n",
      "ofuncionario 50 nao bateu meta\n",
      "1111\n",
      "ofuncionario 120 nao bateu meta\n",
      "ofuncionario 300 nao bateu meta\n",
      "ofuncionario 450 nao bateu meta\n",
      "ofuncionario 800 nao bateu meta\n",
      "23\n",
      "6\n"
     ]
    }
   ],
   "source": [
    "vendas = [1200, 300, 800, 1500, 1900, 2750, 400, 20, 23, 70, 90, 80, 1100, 999, 900, 880, 870, 50, 1111, 120, 300, 450, 800]\n",
    "meta = 1000\n",
    "\n",
    "qtde = 0\n",
    "\n",
    "for item in vendas:\n",
    "    if item >= meta:\n",
    "        qtde += 1\n",
    "        print(item)\n",
    "        \n",
    "    else:\n",
    "        print('ofuncionario {} nao bateu meta' .format(item))\n",
    "        \n",
    "\n",
    "qtde_fum = len (vendas)\n",
    "print(qtde_fum)\n",
    "print(qtde)"
   ]
  },
  {
   "cell_type": "code",
   "execution_count": 12,
   "id": "b125fb61",
   "metadata": {},
   "outputs": [
    {
     "name": "stdout",
     "output_type": "stream",
     "text": [
      "0 é o funcionário 1200\n",
      "1 é o funcionário 300\n",
      "2 é o funcionário 800\n",
      "3 é o funcionário 1500\n",
      "4 é o funcionário 1900\n",
      "5 é o funcionário 2750\n",
      "6 é o funcionário 400\n",
      "7 é o funcionário 20\n",
      "8 é o funcionário 23\n",
      "9 é o funcionário 70\n",
      "10 é o funcionário 90\n",
      "11 é o funcionário 80\n",
      "12 é o funcionário 1100\n",
      "13 é o funcionário 999\n",
      "14 é o funcionário 900\n",
      "15 é o funcionário 880\n",
      "16 é o funcionário 870\n",
      "17 é o funcionário 50\n",
      "18 é o funcionário 1111\n",
      "19 é o funcionário 120\n",
      "20 é o funcionário 300\n",
      "21 é o funcionário 450\n",
      "22 é o funcionário 800\n",
      "dolly está abaixo do nível mínimo. Temos apenas 20 unidades\n",
      "red bull está abaixo do nível mínimo. Temos apenas 23 unidades\n"
     ]
    }
   ],
   "source": [
    "funcionarios = [1200, 300, 800, 1500, 1900, 2750, 400, 20, 23, 70, 90, 80, 1100, 999, 900, 880, 870, 50, 1111, 120, 300, 450, 800]\n",
    "\n",
    "for i, funcionario2 in enumerate(funcionarios):\n",
    "    print('{} é o funcionário {}'.format(i, funcionario2))\n",
    "    \n",
    "estoque = [1200, 300, 800, 1500, 1900, 2750, 400, 20, 23, 70, 90, 80, 1100, 999, 900, 880, 870, 50, 1111, 120, 300, 450, 800]\n",
    "produtos = ['coca', 'pepsi', 'guarana', 'skol', 'brahma', 'agua', 'del valle', 'dolly', 'red bull', 'cachaça', 'vinho tinto', 'vodka', 'vinho branco', 'tequila', 'champagne', 'gin', 'guaracamp', 'matte', 'leite de castanha', 'leite', 'jurupinga', 'sprite', 'fanta']\n",
    "nivel_minimo = 50\n",
    "\n",
    "for i, qtde in enumerate(estoque):\n",
    "    if qtde < nivel_minimo:\n",
    "        print('{} está abaixo do nível mínimo. Temos apenas {} unidades'.format(produtos[i], qtde))\n"
   ]
  },
  {
   "cell_type": "code",
   "execution_count": null,
   "id": "2dfe5ac0",
   "metadata": {},
   "outputs": [],
   "source": [
    "qtde_pesoas = int(input('quantas pesoas tem no quarto '))\n",
    "\n",
    "quarto = []\n",
    "\n",
    "for i in range(qtde_pesoas):\n",
    "               nome = input('qual nome do ospede ')\n",
    "               cpf = input('qual cpf ')\n",
    "               hospede = [nome,cpf]\n",
    "               quarto.append(hospede)\n",
    "               \n",
    "print(quarto)\n",
    "\n"
   ]
  },
  {
   "cell_type": "code",
   "execution_count": null,
   "id": "582da58e",
   "metadata": {},
   "outputs": [],
   "source": [
    "meta = 10000\n",
    "vendas = [\n",
    "    ['João', 15000],\n",
    "    ['Julia', 27000],\n",
    "    ['Marcus', 9900],\n",
    "    ['Maria', 3750],\n",
    "    ['Ana', 10300],\n",
    "    ['Alon', 7870],\n",
    "]\n",
    "#seu código aqui\n",
    "for item in vendas:\n",
    "    if item[1] >= meta:\n",
    "        print('Vendedor {} bateu a meta. Fez {} vendas'.format(item[0], item[1]))"
   ]
  },
  {
   "cell_type": "code",
   "execution_count": null,
   "id": "fe64fc12",
   "metadata": {},
   "outputs": [],
   "source": [
    "produtos = ['iphone', 'galaxy', 'ipad', 'tv', 'máquina de café', 'kindle', 'geladeira', 'adega', 'notebook dell', 'notebook hp', 'notebook asus', 'microsoft surface', 'webcam', 'caixa de som', 'microfone', 'câmera canon']\n",
    "vendas2019 = [558147,712350,573823,405252,718654,531580,973139,892292,422760,154753,887061,438508,237467,489705,328311,591120]\n",
    "vendas2020 = [951642,244295,26964,787604,867660,78830,710331,646016,694913,539704,324831,667179,295633,725316,644622,994303]\n",
    "#seu código aqui\n",
    "\n",
    "for i, produto in enumerate(produtos):\n",
    "    if vendas2020[i] > vendas2019[i]:\n",
    "        crescimento = vendas2020[i] / vendas2019[i] - 1\n",
    "        print('{} vendeu R${:,} em 2019, R${:,} em 2020 e teve {:.1%} de crescimento'.format(produto, vendas2019[i], vendas2020[i], crescimento))"
   ]
  },
  {
   "cell_type": "code",
   "execution_count": null,
   "id": "73ec1e07",
   "metadata": {},
   "outputs": [],
   "source": [
    "produtos = ['iphone', 'galaxy', 'ipad', 'tv', 'máquina de café', 'kindle', 'geladeira', 'adega', 'notebook dell', 'notebook hp', 'notebook asus', 'microsoft surface', 'webcam', 'caixa de som', 'microfone', 'câmera canon']\n",
    "vendas2019 = [558147,712350,573823,405252,718654,531580,973139,892292,422760,154753,887061,438508,237467,489705,328311,591120]\n",
    "vendas2020 = [951642,244295,26964,787604,867660,78830,710331,646016,694913,539704,324831,667179,295633,725316,644622,994303]\n",
    "#seu código aqui\n",
    "\n",
    "for i, produto in enumerate(produtos):\n",
    "    if vendas2020[i] > vendas2019[i]:\n",
    "        crescimento = vendas2020[i] / vendas2019[i] - 1\n",
    "        print('{} vendeu R${:,} em 2019, R${:,} em 2020 e teve {:.1%} de crescimento'.format(produto, vendas2019[i], vendas2020[i], crescimento))\n",
    "        "
   ]
  },
  {
   "cell_type": "code",
   "execution_count": null,
   "id": "90ab9722",
   "metadata": {},
   "outputs": [],
   "source": [
    "produtos = ['iphone', 'galaxy', 'ipad', 'tv', 'máquina de café', 'kindle', 'geladeira', 'adega', 'notebook dell', 'notebook hp', 'notebook asus', 'microsoft surface', 'webcam', 'caixa de som', 'microfone', 'câmera canon']\n",
    "vendas2019 = [558147,712350,573823,405252,718654,531580,973139,892292,422760,154753,887061,438508,237467,489705,328311,591120]\n",
    "vendas2020 = [951642,244295,26964,787604,867660,78830,710331,646016,694913,539704,324831,667179,295633,725316,644622,994303]\n",
    "#seu código aqui\n",
    "\n",
    "for i, produto in enumerate(produtos):\n",
    "    if vendas2020[i] > vendas2019[i]:\n",
    "        crescimento = vendas2020[i] / vendas2019[i] - 1\n",
    "        print('{} vendeu R${:,} em 2019, R${:,} em 2020 e teve {:.1%} de crescimento'.format(produto, vendas2019[i], vendas2020[i], crescimento))"
   ]
  },
  {
   "cell_type": "code",
   "execution_count": null,
   "id": "af989fef",
   "metadata": {},
   "outputs": [],
   "source": [
    "estoque = [\n",
    "    [294, 125, 269, 208, 783, 852, 259, 371, 47, 102, 386, 87, 685, 686, 697, 941, 163, 631, 7, 714, 218, 670, 453],\n",
    "    [648, 816, 310, 555, 992, 643, 226, 319, 501, 23, 239, 42, 372, 441, 126, 645, 927, 911, 761, 445, 974, 2, 549],\n",
    "    [832, 683, 784, 449, 977, 705, 198, 937, 729, 327, 339, 10, 975, 310, 95, 689, 137, 795, 211, 538, 933, 751, 522],\n",
    "    [837, 168, 570, 397, 53, 297, 966, 714, 72, 737, 259, 629, 625, 469, 922, 305, 782, 243, 841, 848, 372, 621, 362],\n",
    "    [429, 242, 53, 985, 406, 186, 198, 50, 501, 870, 781, 632, 781, 105, 644, 509, 401, 88, 961, 765, 422, 340, 654],\n",
    "]\n",
    "fabricas = ['Lira Manufacturing', 'Fábrica Hashtag', 'Python Manufaturas', 'Produções e Cia', 'Manufatura e Cia']\n",
    "nivel_minimo = 50\n",
    "\n",
    "for i, lista in enumerate(estoque):\n",
    "    #se dentro daquela lista tem alguem abaixo do nível minimo\n",
    "    for qtde in lista:\n",
    "        if qtde < nivel_minimo:\n",
    "            print(fabricas[i])"
   ]
  },
  {
   "cell_type": "code",
   "execution_count": 1,
   "id": "4ba29186",
   "metadata": {},
   "outputs": [
    {
     "name": "stdout",
     "output_type": "stream",
     "text": [
      "['Lira Manufacturing', 'Fábrica Hashtag', 'Python Manufaturas']\n"
     ]
    }
   ],
   "source": [
    "estoque = [\n",
    "    [294, 125, 269, 208, 783, 852, 259, 371, 47, 102, 386, 87, 685, 686, 697, 941, 163, 631, 7, 714, 218, 670, 453],\n",
    "    [648, 816, 310, 555, 992, 643, 226, 319, 501, 23, 239, 42, 372, 441, 126, 645, 927, 911, 761, 445, 974, 2, 549],\n",
    "    [832, 683, 784, 449, 977, 705, 198, 937, 729, 327, 339, 10, 975, 310, 95, 689, 137, 795, 211, 538, 933, 751, 522],\n",
    "    [837, 168, 570, 397, 53, 297, 966, 714, 72, 737, 259, 629, 625, 469, 922, 305, 782, 243, 841, 848, 372, 621, 362],\n",
    "    [429, 242, 53, 985, 406, 186, 198, 50, 501, 870, 781, 632, 781, 105, 644, 509, 401, 88, 961, 765, 422, 340, 654],\n",
    "]\n",
    "fabricas = ['Lira Manufacturing', 'Fábrica Hashtag', 'Python Manufaturas', 'Produções e Cia', 'Manufatura e Cia']\n",
    "nivel_minimo = 50\n",
    "fabricas_abaixo_nivel = []\n",
    "\n",
    "\n",
    "for i, lista in enumerate(estoque):\n",
    "    #se dentro daquela lista tem alguem abaixo do nível minimo\n",
    "    for qtde in lista:\n",
    "        if qtde < nivel_minimo:\n",
    "            if fabricas[i] in fabricas_abaixo_nivel:\n",
    "                pass\n",
    "            else:\n",
    "                fabricas_abaixo_nivel.append(fabricas[i])\n",
    "            \n",
    "            \n",
    "print(fabricas_abaixo_nivel)"
   ]
  },
  {
   "cell_type": "code",
   "execution_count": 3,
   "id": "eaa358b9",
   "metadata": {},
   "outputs": [
    {
     "name": "stdout",
     "output_type": "stream",
     "text": [
      "['Lira Manufacturing', 'Fábrica Hashtag', 'Python Manufaturas']\n"
     ]
    }
   ],
   "source": [
    "estoque = [\n",
    "    [294, 125, 269, 208, 783, 852, 259, 371, 47, 102, 386, 87, 685, 686, 697, 941, 163, 631, 7, 714, 218, 670, 453],\n",
    "    [648, 816, 310, 555, 992, 643, 226, 319, 501, 23, 239, 42, 372, 441, 126, 645, 927, 911, 761, 445, 974, 2, 549],\n",
    "    [832, 683, 784, 449, 977, 705, 198, 937, 729, 327, 339, 10, 975, 310, 95, 689, 137, 795, 211, 538, 933, 751, 522],\n",
    "    [837, 168, 570, 397, 53, 297, 966, 714, 72, 737, 259, 629, 625, 469, 922, 305, 782, 243, 841, 848, 372, 621, 362],\n",
    "    [429, 242, 53, 985, 406, 186, 198, 50, 501, 870, 781, 632, 781, 105, 644, 509, 401, 88, 961, 765, 422, 340, 654],\n",
    "]\n",
    "fabricas = ['Lira Manufacturing', 'Fábrica Hashtag', 'Python Manufaturas', 'Produções e Cia', 'Manufatura e Cia']\n",
    "nivel_minimo = 50\n",
    "fabricas_abaxo = []\n",
    "\n",
    "for i, lista in enumerate(estoque):\n",
    "    #se dentro daquela lista tem alguem abaixo do nível minimo\n",
    "    for qtde in lista:\n",
    "        if qtde < nivel_minimo:\n",
    "            if fabricas[i] in fabricas_abaxo:\n",
    "                pass\n",
    "            else:\n",
    "                fabricas_abaxo.append(fabricas[i])\n",
    "                \n",
    "print(fabricas_abaxo)"
   ]
  },
  {
   "cell_type": "code",
   "execution_count": null,
   "id": "ea1a6a9d",
   "metadata": {},
   "outputs": [],
   "source": []
  }
 ],
 "metadata": {
  "kernelspec": {
   "display_name": "Python 3 (ipykernel)",
   "language": "python",
   "name": "python3"
  },
  "language_info": {
   "codemirror_mode": {
    "name": "ipython",
    "version": 3
   },
   "file_extension": ".py",
   "mimetype": "text/x-python",
   "name": "python",
   "nbconvert_exporter": "python",
   "pygments_lexer": "ipython3",
   "version": "3.9.12"
  }
 },
 "nbformat": 4,
 "nbformat_minor": 5
}
